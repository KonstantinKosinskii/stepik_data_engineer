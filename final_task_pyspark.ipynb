{
  "nbformat": 4,
  "nbformat_minor": 0,
  "metadata": {
    "colab": {
      "provenance": []
    },
    "kernelspec": {
      "name": "python3",
      "display_name": "Python 3"
    },
    "language_info": {
      "name": "python"
    }
  },
  "cells": [
    {
      "cell_type": "code",
      "execution_count": null,
      "metadata": {
        "colab": {
          "base_uri": "https://localhost:8080/"
        },
        "id": "qaUJ3pCi6OzT",
        "outputId": "d45d4500-cff2-41bd-ffcf-1e71acbd005c"
      },
      "outputs": [
        {
          "output_type": "stream",
          "name": "stdout",
          "text": [
            "pip 24.1.2 from /usr/local/lib/python3.10/dist-packages/pip (python 3.10)\n"
          ]
        }
      ],
      "source": [
        "pip --version"
      ]
    },
    {
      "cell_type": "code",
      "source": [
        "!pip install pyspark py4j"
      ],
      "metadata": {
        "colab": {
          "base_uri": "https://localhost:8080/"
        },
        "id": "_vWrBx1h6jTJ",
        "outputId": "8bac1190-91b4-4609-b433-e53bfe83abc2"
      },
      "execution_count": 2,
      "outputs": [
        {
          "output_type": "stream",
          "name": "stdout",
          "text": [
            "Collecting pyspark\n",
            "  Downloading pyspark-3.5.2.tar.gz (317.3 MB)\n",
            "\u001b[2K     \u001b[90m━━━━━━━━━━━━━━━━━━━━━━━━━━━━━━━━━━━━━━━━\u001b[0m \u001b[32m317.3/317.3 MB\u001b[0m \u001b[31m4.1 MB/s\u001b[0m eta \u001b[36m0:00:00\u001b[0m\n",
            "\u001b[?25h  Preparing metadata (setup.py) ... \u001b[?25l\u001b[?25hdone\n",
            "Requirement already satisfied: py4j in /usr/local/lib/python3.10/dist-packages (0.10.9.7)\n",
            "Building wheels for collected packages: pyspark\n",
            "  Building wheel for pyspark (setup.py) ... \u001b[?25l\u001b[?25hdone\n",
            "  Created wheel for pyspark: filename=pyspark-3.5.2-py2.py3-none-any.whl size=317812365 sha256=5d426f4a1bdc74081b2cdfe54f3c2c2b6975747dfcac0786dd755ac404dc9dfa\n",
            "  Stored in directory: /root/.cache/pip/wheels/34/34/bd/03944534c44b677cd5859f248090daa9fb27b3c8f8e5f49574\n",
            "Successfully built pyspark\n",
            "Installing collected packages: pyspark\n",
            "Successfully installed pyspark-3.5.2\n"
          ]
        }
      ]
    },
    {
      "cell_type": "code",
      "source": [
        "from pyspark.sql import SparkSession\n",
        "from pyspark.sql.functions import to_date, col, sum, avg, month\n",
        "\n",
        "# Создание SparkSession\n",
        "spark = SparkSession.builder.appName(\"Final task\").getOrCreate()\n",
        "\n",
        "# Чтение CSV-файла\n",
        "df = spark.read.csv(\"/content/web_server_logs.csv\", header=True, inferSchema=True)\n",
        "df.show(3)\n",
        "df.printSchema()\n",
        "\n",
        "df.createOrReplaceTempView(\"temp\")\n",
        "# ==========================================================================================================\n",
        "# Сгруппируйте данные по IP и посчитайте количество запросов для каждого IP, выводим 10 самых активных IP.\n",
        "df.groupby(\"ip\").count().orderBy(\"count\", ascending=False).show(10)\n",
        "\n",
        "spark.sql(\"\"\"\n",
        "    select\n",
        "          ip,\n",
        "          count(response_code)\n",
        "    from temp\n",
        "    group by ip\n",
        "    order by count(response_code)\n",
        "    limit 10\n",
        "\"\"\").show()\n",
        "# ==========================================================================================================\n",
        "# Сгруппируйте данные по HTTP-методу и посчитайте количество запросов для каждого метода.\n",
        "\n",
        "df.groupBy(\"method\").count().orderBy(\"count\", ascending=False).show()\n",
        "\n",
        "# ==========================================================================================================\n",
        "# Профильтруйте и посчитайте количество запросов с кодом ответа 404.\n",
        "\n",
        "amount = spark.sql(\"\"\"\n",
        "    select\n",
        "        count(1) as amount\n",
        "    from temp\n",
        "    where response_code = 404\n",
        "\"\"\")\n",
        "print(f'Number of 404 response code:{amount.collect()[0][\"amount\"]}')\n",
        "\n",
        "# ==========================================================================================================\n",
        "# Сгруппируйте данные по дате и просуммируйте размер ответов, сортируйте по дате.\n",
        "\n",
        "spark.sql(\"\"\"\n",
        "  select\n",
        "      cast(timestamp as date),\n",
        "      sum(response_size) as total_response_size\n",
        "  from temp\n",
        "  group by cast(timestamp as date)\n",
        "  order by sum(response_size) desc\n",
        "  \"\"\").show()"
      ],
      "metadata": {
        "colab": {
          "base_uri": "https://localhost:8080/"
        },
        "id": "AXhFffAmK5GA",
        "outputId": "d575fa4e-9b59-46c6-aacd-690851a3e621"
      },
      "execution_count": 84,
      "outputs": [
        {
          "output_type": "stream",
          "name": "stdout",
          "text": [
            "+-------------+--------------------+------+--------------------+-------------+-------------+\n",
            "|           ip|           timestamp|method|                 url|response_code|response_size|\n",
            "+-------------+--------------------+------+--------------------+-------------+-------------+\n",
            "| 1.100.233.90|2024-05-25 06:08:...|  POST|                list|          500|          900|\n",
            "| 158.16.181.2|2024-05-23 19:40:...|  POST|      wp-content/tag|          301|         2431|\n",
            "|53.89.224.199|2024-05-07 21:51:...|  POST|explore/categorie...|          404|         6401|\n",
            "+-------------+--------------------+------+--------------------+-------------+-------------+\n",
            "only showing top 3 rows\n",
            "\n",
            "root\n",
            " |-- ip: string (nullable = true)\n",
            " |-- timestamp: timestamp (nullable = true)\n",
            " |-- method: string (nullable = true)\n",
            " |-- url: string (nullable = true)\n",
            " |-- response_code: integer (nullable = true)\n",
            " |-- response_size: integer (nullable = true)\n",
            "\n",
            "+---------------+-----+\n",
            "|             ip|count|\n",
            "+---------------+-----+\n",
            "|  157.24.224.31|    1|\n",
            "| 222.59.122.226|    1|\n",
            "|   209.77.171.2|    1|\n",
            "|181.105.209.184|    1|\n",
            "|     8.216.6.10|    1|\n",
            "| 155.168.172.42|    1|\n",
            "|  65.225.164.18|    1|\n",
            "|  53.198.220.99|    1|\n",
            "| 117.108.216.49|    1|\n",
            "|    7.48.158.62|    1|\n",
            "+---------------+-----+\n",
            "only showing top 10 rows\n",
            "\n",
            "+---------------+--------------------+\n",
            "|             ip|count(response_code)|\n",
            "+---------------+--------------------+\n",
            "|  157.24.224.31|                   1|\n",
            "| 222.59.122.226|                   1|\n",
            "|   209.77.171.2|                   1|\n",
            "|181.105.209.184|                   1|\n",
            "|     8.216.6.10|                   1|\n",
            "| 155.168.172.42|                   1|\n",
            "|  65.225.164.18|                   1|\n",
            "|  53.198.220.99|                   1|\n",
            "| 117.108.216.49|                   1|\n",
            "|    7.48.158.62|                   1|\n",
            "+---------------+--------------------+\n",
            "\n",
            "+------+-----+\n",
            "|method|count|\n",
            "+------+-----+\n",
            "|DELETE|25106|\n",
            "|  POST|25026|\n",
            "|   PUT|24999|\n",
            "|   GET|24869|\n",
            "+------+-----+\n",
            "\n",
            "Number of 404 response code:24954\n",
            "+----------+-------------------+\n",
            "| timestamp|total_response_size|\n",
            "+----------+-------------------+\n",
            "|2024-01-25|            2374726|\n",
            "|2024-05-23|            2361113|\n",
            "|2024-07-03|            2345316|\n",
            "|2024-01-15|            2341826|\n",
            "|2024-07-19|            2296510|\n",
            "|2024-03-08|            2288514|\n",
            "|2024-02-25|            2283857|\n",
            "|2024-07-22|            2263077|\n",
            "|2024-07-31|            2261092|\n",
            "|2024-04-01|            2261051|\n",
            "|2024-03-26|            2248396|\n",
            "|2024-05-22|            2243989|\n",
            "|2024-05-07|            2243540|\n",
            "|2024-04-03|            2223750|\n",
            "|2024-06-02|            2219622|\n",
            "|2024-01-02|            2214273|\n",
            "|2024-08-10|            2212102|\n",
            "|2024-07-24|            2210366|\n",
            "|2024-07-15|            2207214|\n",
            "|2024-07-13|            2198711|\n",
            "+----------+-------------------+\n",
            "only showing top 20 rows\n",
            "\n"
          ]
        }
      ]
    }
  ]
}